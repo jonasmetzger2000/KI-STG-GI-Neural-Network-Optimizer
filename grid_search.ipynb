{
 "cells": [
  {
   "cell_type": "code",
   "id": "initial_id",
   "metadata": {
    "collapsed": true,
    "ExecuteTime": {
     "end_time": "2024-07-26T11:36:58.921968Z",
     "start_time": "2024-07-26T11:36:58.916448Z"
    }
   },
   "source": [
    "from sklearn.model_selection import GridSearchCV\n",
    "\n",
    "print(\"Hello World!\")"
   ],
   "outputs": [
    {
     "name": "stdout",
     "output_type": "stream",
     "text": [
      "Hello World!\n"
     ]
    }
   ],
   "execution_count": 1
  },
  {
   "metadata": {
    "jupyter": {
     "is_executing": true
    },
    "ExecuteTime": {
     "start_time": "2024-07-26T12:20:42.706575Z"
    }
   },
   "cell_type": "code",
   "source": [
    "import keras\n",
    "from scikeras.wrappers import KerasClassifier\n",
    "from sklearn.model_selection import GridSearchCV\n",
    "import numpy as np\n",
    "\n",
    "(x_train, y_train), (x_test, y_test) = keras.datasets.mnist.load_data()\n",
    "x_train = x_train.astype(\"float32\") / 255\n",
    "x_test = x_test.astype(\"float32\") / 255\n",
    "x_train = np.expand_dims(x_train, -1)\n",
    "x_test = np.expand_dims(x_test, -1)\n",
    "y_train = keras.utils.to_categorical(y_train, 10)\n",
    "y_test = keras.utils.to_categorical(y_test, 10)\n",
    "\n",
    "def get_model(lr = 0.001, ne = 256):\n",
    "    model = keras.Sequential([\n",
    "        keras.layers.Dense(ne, activation='softmax'),\n",
    "        keras.layers.Flatten(),\n",
    "        keras.layers.Dense(10, activation='softmax'),\n",
    "    ])\n",
    "    model.compile(\n",
    "        optimizer=keras.optimizers.Adam(learning_rate=float(lr)),\n",
    "        loss='categorical_crossentropy',\n",
    "        metrics=['acc'])\n",
    "    return model\n",
    "\n",
    "model = KerasClassifier(model=get_model)\n",
    "batch_size=[8, 16, 32, 64, 128, 256, 512]\n",
    "learning_rate=[0.001, 0.005, 0.01, 0.05, 0.1]\n",
    "epochs=[5, 10, 15, 20]\n",
    "neurons=[32, 64, 128, 256, 512]\n",
    "param_grid = dict(batch_size=batch_size, model__lr=learning_rate, epochs=epochs, model__ne=neurons)\n",
    "grid = GridSearchCV(estimator=model, param_grid=param_grid, n_jobs=1)\n",
    "grid_result = grid.fit(x_train, y_train, validation_data=(x_test, y_test))\n",
    "print(\"Best: %f using %s\" % (grid_result.best_score_, grid_result.best_params_))\n",
    "means = grid_result.cv_results_['mean_test_score']\n",
    "stds = grid_result.cv_results_['std_test_score']\n",
    "params = grid_result.cv_results_['params']\n",
    "for mean, stdev, param in zip(means, stds, params):\n",
    "    print(\"%f (%f) with: %r\" % (mean, stdev, param))\n",
    "\n",
    "\n",
    "\n",
    "result = model.fit(x_train,\n",
    "                   y_train,\n",
    "                   int(batch_size),\n",
    "                   epochs=epochs,\n",
    "                   validation_data=(x_test, y_test))"
   ],
   "id": "9cba91a699f80408",
   "outputs": [],
   "execution_count": null
  },
  {
   "metadata": {},
   "cell_type": "code",
   "outputs": [],
   "execution_count": null,
   "source": "",
   "id": "fc42b465cdb3b0a6"
  }
 ],
 "metadata": {
  "kernelspec": {
   "display_name": "Python 3",
   "language": "python",
   "name": "python3"
  },
  "language_info": {
   "codemirror_mode": {
    "name": "ipython",
    "version": 2
   },
   "file_extension": ".py",
   "mimetype": "text/x-python",
   "name": "python",
   "nbconvert_exporter": "python",
   "pygments_lexer": "ipython2",
   "version": "2.7.6"
  }
 },
 "nbformat": 4,
 "nbformat_minor": 5
}
